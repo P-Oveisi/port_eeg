{
 "cells": [
  {
   "cell_type": "code",
   "execution_count": 1,
   "id": "6d398bae",
   "metadata": {},
   "outputs": [
    {
     "name": "stdout",
     "output_type": "stream",
     "text": [
      "Requirement already satisfied: brainflow in c:\\anaconda\\lib\\site-packages (4.8.2)\n",
      "Requirement already satisfied: nptyping in c:\\anaconda\\lib\\site-packages (from brainflow) (1.4.4)\n",
      "Requirement already satisfied: numpy in c:\\anaconda\\lib\\site-packages (from brainflow) (1.20.1)\n",
      "Requirement already satisfied: typish>=1.7.0 in c:\\anaconda\\lib\\site-packages (from nptyping->brainflow) (1.9.3)\n",
      "Note: you may need to restart the kernel to use updated packages.\n"
     ]
    }
   ],
   "source": [
    "pip install brainflow"
   ]
  },
  {
   "cell_type": "code",
   "execution_count": 2,
   "id": "79576765",
   "metadata": {},
   "outputs": [],
   "source": [
    "import os\n",
    "import mne\n",
    "import BIG\n",
    "import numpy as np\n",
    "import time\n",
    "\n",
    "import brainflow\n",
    "from brainflow.board_shim import BoardShim, BrainFlowInputParams, BoardIds\n",
    "from brainflow.data_filter import DataFilter, FilterTypes, AggOperations\n"
   ]
  },
  {
   "cell_type": "code",
   "execution_count": 2,
   "id": "40c6edd5",
   "metadata": {},
   "outputs": [],
   "source": [
    "\n",
    "\n",
    "# BoardShim.enable_dev_board_logger()\n",
    "\n",
    "# # parser = argparse.ArgumentParser()\n",
    "# # # use docs to check which parameters are required for specific board, e.g. for Cyton - set serial port\n",
    "# # parser.add_argument('--timeout', type=int, help='timeout for device discovery or connection', required=False,\n",
    "# #                     default=0)\n",
    "# # parser.add_argument('--ip-port', type=int, help='ip port', required=False, default=0)\n",
    "# # parser.add_argument('--ip-protocol', type=int, help='ip protocol, check IpProtocolType enum', required=False,\n",
    "# #                     default=0)\n",
    "# # parser.add_argument('--ip-address', type=str, help='ip address', required=False, default='')\n",
    "# # parser.add_argument('--serial-port', type=str, help='serial port', required=False, default='')\n",
    "# # parser.add_argument('--mac-address', type=str, help='mac address', required=False, default='')\n",
    "# # parser.add_argument('--other-info', type=str, help='other info', required=False, default='')\n",
    "# # parser.add_argument('--streamer-params', type=str, help='streamer params', required=False, default='')\n",
    "# # parser.add_argument('--serial-number', type=str, help='serial number', required=False, default='')\n",
    "# # parser.add_argument('--board-id', type=int, help='board id, check docs to get a list of supported boards',\n",
    "# #                     required=True)\n",
    "# # parser.add_argument('--file', type=str, help='file', required=False, default='')\n",
    "# # args = parser.parse_args()\n",
    "\n",
    "# params = BrainFlowInputParams()\n",
    "# params.ip_port = args.ip_port\n",
    "# params.serial_port = args.serial_port\n",
    "# params.mac_address = args.mac_address\n",
    "# params.other_info = args.other_info\n",
    "# params.serial_number = args.serial_number\n",
    "# params.ip_address = args.ip_address\n",
    "# params.ip_protocol = args.ip_protocol\n",
    "# params.timeout = args.timeout\n",
    "# params.file = args.file\n",
    "\n",
    "# board = BoardShim(args.board_id, params)\n",
    "# board.prepare_session()\n",
    "# # board.start_stream () # use this for default options\n",
    "# board.start_stream(45000, args.streamer_params)\n",
    "# time.sleep(10)\n",
    "# # data = board.get_current_board_data (256) # get latest 256 packages or less, doesnt remove them from internal buffer\n",
    "# data = board.get_board_data()  # get all data and remove it from internal buffer\n",
    "# board.stop_stream()\n",
    "# board.release_session()\n",
    "\n",
    "# print(data)\n",
    "\n",
    "\n"
   ]
  },
  {
   "cell_type": "code",
   "execution_count": 3,
   "id": "ee1eec72",
   "metadata": {},
   "outputs": [],
   "source": [
    "# self.board_id = 38 #BoardIds.BoardIds.MUSE_2_BOARD.value # or BoardIds.NOTION_2_BOARD.value or BoardIds.NOTION_1_BOARD.value\n",
    "# #self.serial_number = '18721ec44e87864737f236d0be99f56d'\n",
    "# self.params = BrainFlowInputParams ()\n",
    "# self.params.board_id = self.board_id\n",
    "# #self.params.serial_number = self.serial_number\n",
    "# BoardShim.enable_dev_board_logger ()\n",
    "# self.board = BoardShim (self.board_id, self.params)\n",
    "# self.data = np.array(0)\n",
    "# self.ses_name = ses_name\n",
    "# self.path = path\n",
    "# self.expdur = 0"
   ]
  },
  {
   "cell_type": "code",
   "execution_count": 3,
   "id": "d1513d81",
   "metadata": {},
   "outputs": [],
   "source": [
    "board_id = BoardIds.MUSE_2_BOARD # or BoardIds.NOTION_2_BOARD.value or BoardIds.NOTION_1_BOARD.value\n",
    "serial_number = '4107-BPDW-BFAB'\n",
    "params = BrainFlowInputParams ()\n",
    "params.board_id = board_id\n",
    "params.serial_number = serial_number\n",
    "BoardShim.enable_dev_board_logger()\n",
    "board = BoardShim (board_id, params)\n",
    "data = np.array(0)\n",
    "# self.ses_name = ses_name\n",
    "# self.path = path\n",
    "expdur = 0"
   ]
  },
  {
   "cell_type": "code",
   "execution_count": 6,
   "id": "cc152b12",
   "metadata": {},
   "outputs": [
    {
     "ename": "BrainFlowError",
     "evalue": "BOARD_NOT_READY_ERROR:7 unable to prepare streaming session",
     "output_type": "error",
     "traceback": [
      "\u001b[1;31m---------------------------------------------------------------------------\u001b[0m",
      "\u001b[1;31mBrainFlowError\u001b[0m                            Traceback (most recent call last)",
      "\u001b[1;32m<ipython-input-6-1f757208eb80>\u001b[0m in \u001b[0;36m<module>\u001b[1;34m\u001b[0m\n\u001b[1;32m----> 1\u001b[1;33m \u001b[0mboard\u001b[0m\u001b[1;33m.\u001b[0m\u001b[0mprepare_session\u001b[0m\u001b[1;33m(\u001b[0m\u001b[1;33m)\u001b[0m\u001b[1;33m\u001b[0m\u001b[1;33m\u001b[0m\u001b[0m\n\u001b[0m",
      "\u001b[1;32mC:\\Anaconda\\lib\\site-packages\\brainflow\\board_shim.py\u001b[0m in \u001b[0;36mprepare_session\u001b[1;34m(self)\u001b[0m\n\u001b[0;32m    897\u001b[0m         \u001b[0mres\u001b[0m \u001b[1;33m=\u001b[0m \u001b[0mBoardControllerDLL\u001b[0m\u001b[1;33m.\u001b[0m\u001b[0mget_instance\u001b[0m\u001b[1;33m(\u001b[0m\u001b[1;33m)\u001b[0m\u001b[1;33m.\u001b[0m\u001b[0mprepare_session\u001b[0m\u001b[1;33m(\u001b[0m\u001b[0mself\u001b[0m\u001b[1;33m.\u001b[0m\u001b[0mboard_id\u001b[0m\u001b[1;33m,\u001b[0m \u001b[0mself\u001b[0m\u001b[1;33m.\u001b[0m\u001b[0minput_json\u001b[0m\u001b[1;33m)\u001b[0m\u001b[1;33m\u001b[0m\u001b[1;33m\u001b[0m\u001b[0m\n\u001b[0;32m    898\u001b[0m         \u001b[1;32mif\u001b[0m \u001b[0mres\u001b[0m \u001b[1;33m!=\u001b[0m \u001b[0mBrainflowExitCodes\u001b[0m\u001b[1;33m.\u001b[0m\u001b[0mSTATUS_OK\u001b[0m\u001b[1;33m.\u001b[0m\u001b[0mvalue\u001b[0m\u001b[1;33m:\u001b[0m\u001b[1;33m\u001b[0m\u001b[1;33m\u001b[0m\u001b[0m\n\u001b[1;32m--> 899\u001b[1;33m             \u001b[1;32mraise\u001b[0m \u001b[0mBrainFlowError\u001b[0m\u001b[1;33m(\u001b[0m\u001b[1;34m'unable to prepare streaming session'\u001b[0m\u001b[1;33m,\u001b[0m \u001b[0mres\u001b[0m\u001b[1;33m)\u001b[0m\u001b[1;33m\u001b[0m\u001b[1;33m\u001b[0m\u001b[0m\n\u001b[0m\u001b[0;32m    900\u001b[0m \u001b[1;33m\u001b[0m\u001b[0m\n\u001b[0;32m    901\u001b[0m     \u001b[1;32mdef\u001b[0m \u001b[0mstart_stream\u001b[0m\u001b[1;33m(\u001b[0m\u001b[0mself\u001b[0m\u001b[1;33m,\u001b[0m \u001b[0mnum_samples\u001b[0m\u001b[1;33m:\u001b[0m \u001b[0mint\u001b[0m \u001b[1;33m=\u001b[0m \u001b[1;36m1800\u001b[0m \u001b[1;33m*\u001b[0m \u001b[1;36m250\u001b[0m\u001b[1;33m,\u001b[0m \u001b[0mstreamer_params\u001b[0m\u001b[1;33m:\u001b[0m \u001b[0mstr\u001b[0m \u001b[1;33m=\u001b[0m \u001b[1;32mNone\u001b[0m\u001b[1;33m)\u001b[0m \u001b[1;33m->\u001b[0m \u001b[1;32mNone\u001b[0m\u001b[1;33m:\u001b[0m\u001b[1;33m\u001b[0m\u001b[1;33m\u001b[0m\u001b[0m\n",
      "\u001b[1;31mBrainFlowError\u001b[0m: BOARD_NOT_READY_ERROR:7 unable to prepare streaming session"
     ]
    }
   ],
   "source": [
    "board.prepare_session()"
   ]
  },
  {
   "cell_type": "code",
   "execution_count": 3,
   "id": "3bec20da",
   "metadata": {},
   "outputs": [],
   "source": [
    "sfreq = BoardShim.get_sampling_rate(board_id)"
   ]
  },
  {
   "cell_type": "code",
   "execution_count": 6,
   "id": "665ed7d4",
   "metadata": {},
   "outputs": [
    {
     "data": {
      "text/plain": [
       "38"
      ]
     },
     "execution_count": 6,
     "metadata": {},
     "output_type": "execute_result"
    }
   ],
   "source": [
    "BoardIds.MUSE_2_BOARD.value"
   ]
  },
  {
   "cell_type": "code",
   "execution_count": 8,
   "id": "a524396b",
   "metadata": {},
   "outputs": [
    {
     "data": {
      "text/plain": [
       "'G:\\\\My Drive\\\\Lab\\\\jupyter_notebooks\\\\Neural Interfaces\\\\Muse'"
      ]
     },
     "execution_count": 8,
     "metadata": {},
     "output_type": "execute_result"
    }
   ],
   "source": [
    "pwd"
   ]
  },
  {
   "cell_type": "code",
   "execution_count": null,
   "id": "c69caa16",
   "metadata": {},
   "outputs": [],
   "source": [
    "# start recording\n",
    "\n",
    "def recstart(self):\n",
    "    self.board.prepare_session()\n",
    "    self.expdur = time.time()\n",
    "    self.board.start_stream()\n",
    "\n",
    "\n",
    "    os.chdir(self.path)\n",
    "    os.mkdir(self.ses_name)\n",
    "    os.chdir(self.path + f'/{self.ses_name}')\n",
    "\n",
    "    f = open(\"description.txt\",\"w+\")\n",
    "    f.close()\n",
    "    self.desc = os.getcwd() + '\\\\description.txt' # Adding description file\n",
    "\n",
    "    self.start_time = time.time()"
   ]
  },
  {
   "cell_type": "code",
   "execution_count": null,
   "id": "91771399",
   "metadata": {},
   "outputs": [],
   "source": [
    "# stop recording and save\n",
    "def recstop(self):\n",
    "    self.data = self.board.get_board_data()\n",
    "    self.board.stop_stream()\n",
    "    self.expdur = time.time() - self.expdur\n",
    "    self.board.release_session()\n",
    "\n",
    "    self.eeg_channels = BoardShim.get_eeg_channels(BoardIds.BoardIds.MUSE_2_BOARD (38).value)\n",
    "    self.eeg_data = self.data[self.eeg_channels, :]\n",
    "    self.eeg_data = self.eeg_data / 1000000  # BrainFlow returns uV, convert to V for MNE\n",
    "\n",
    "    # Creating MNE objects from brainflow data arrays\n",
    "    self.ch_types = ['eeg'] * len(self.eeg_channels)\n",
    "    self.ch_names = BoardShim.get_eeg_names(BoardIds.MUSE_2_BOARD.value)\n",
    "    self.sfreq = BoardShim.get_sampling_rate(BoardIds.MUSE_2_BOARD.value)\n",
    "    self.info = mne.create_info(ch_names=self.ch_names, sfreq=self.sfreq, ch_types=self.ch_types)\n",
    "    self.raw = mne.io.RawArray(self.eeg_data, self.info)\n",
    "\n"
   ]
  },
  {
   "cell_type": "code",
   "execution_count": null,
   "id": "6a2478b7",
   "metadata": {},
   "outputs": [],
   "source": [
    "def show_desc(self):\n",
    "    with open(self.desc, 'r') as f:\n",
    "        print(f.read())\n",
    "        f.close()"
   ]
  },
  {
   "cell_type": "code",
   "execution_count": null,
   "id": "8267373d",
   "metadata": {},
   "outputs": [],
   "source": [
    "def add_timestamp(self, input_str):\n",
    "    timestamp = time.time() - self.start_time\n",
    "    timestamp = round(timestamp, 2)\n",
    "    with open(self.desc, 'a') as f:\n",
    "        f.write(f'\\n[@ {timestamp} s]: {input_str}')\n",
    "        f.close()"
   ]
  },
  {
   "cell_type": "code",
   "execution_count": null,
   "id": "e5effde9",
   "metadata": {},
   "outputs": [],
   "source": [
    "def save(obj):\n",
    "    \n",
    "    with open(f'{obj.ses_name}.pickle', 'wb') as f:\n",
    "        pickle.dump(obj, f)\n",
    "\n",
    "    f.close()\n",
    "\n",
    "    fig = plt.figure()\n",
    "    fig = obj.raw.plot_psd(fmax=50)\n",
    "    fig.savefig('psd', format='jpg')\n",
    "    "
   ]
  },
  {
   "cell_type": "code",
   "execution_count": null,
   "id": "53e465df",
   "metadata": {},
   "outputs": [],
   "source": [
    "def load(ses_name):\n",
    "    print(os.getcwd())\n",
    "    os.chdir(r'G:\\My Drive\\Lab\\jupyter_notebooks\\Neural Interfaces\\recordings' + f'/{ses_name}')\n",
    "    print(os.getcwd())\n",
    "    with open(f'{ses_name}.pickle', mode='rb') as f:\n",
    "        obj = pickle.load(f)\n",
    "    \n",
    "    return obj"
   ]
  }
 ],
 "metadata": {
  "kernelspec": {
   "display_name": "Python 3",
   "language": "python",
   "name": "python3"
  },
  "language_info": {
   "codemirror_mode": {
    "name": "ipython",
    "version": 3
   },
   "file_extension": ".py",
   "mimetype": "text/x-python",
   "name": "python",
   "nbconvert_exporter": "python",
   "pygments_lexer": "ipython3",
   "version": "3.8.8"
  }
 },
 "nbformat": 4,
 "nbformat_minor": 5
}
