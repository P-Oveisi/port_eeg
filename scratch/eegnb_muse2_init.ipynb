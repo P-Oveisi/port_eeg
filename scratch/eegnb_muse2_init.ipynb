{
 "cells": [
  {
   "cell_type": "code",
   "execution_count": null,
   "id": "a6efe94d",
   "metadata": {},
   "outputs": [],
   "source": [
    "# Imports\n",
    "import os\n",
    "from eegnb import generate_save_fn\n",
    "from eegnb.devices.eeg import EEG\n",
    "from eegnb.experiments.visual_n170 import n170\n",
    "from eegnb.analysis.utils import load_data"
   ]
  },
  {
   "cell_type": "code",
   "execution_count": 5,
   "id": "e84f4d4c",
   "metadata": {},
   "outputs": [
    {
     "name": "stdout",
     "output_type": "stream",
     "text": [
      "156.8434 \tWARNING \tUser requested fullscreen with size [1600  900], but screen is actually [1707, 960]. Using actual size\n",
      "158.4221 \tWARNING \tUser requested fullscreen with size [1600  900], but screen is actually [1707, 960]. Using actual size\n",
      "starting background recording process\n",
      "will save to file: C:\\Users\\Parsa\\.eegnb\\data\\visual_n170\\local\\muse2\\subject0999\\session001\\recording_2022-05-16-20.05.40.csv\n"
     ]
    },
    {
     "ename": "NameError",
     "evalue": "name 'board_names' is not defined",
     "output_type": "error",
     "traceback": [
      "\u001b[1;31m---------------------------------------------------------------------------\u001b[0m",
      "\u001b[1;31mNameError\u001b[0m                                 Traceback (most recent call last)",
      "\u001b[1;32m~\\AppData\\Local\\Temp/ipykernel_28892/1982168892.py\u001b[0m in \u001b[0;36m<module>\u001b[1;34m\u001b[0m\n\u001b[0;32m     17\u001b[0m \u001b[1;33m\u001b[0m\u001b[0m\n\u001b[0;32m     18\u001b[0m \u001b[1;31m# Load recorded data\u001b[0m\u001b[1;33m\u001b[0m\u001b[1;33m\u001b[0m\u001b[1;33m\u001b[0m\u001b[0m\n\u001b[1;32m---> 19\u001b[1;33m \u001b[0mraw\u001b[0m \u001b[1;33m=\u001b[0m \u001b[0mload_data\u001b[0m\u001b[1;33m(\u001b[0m\u001b[0msubject\u001b[0m\u001b[1;33m,\u001b[0m \u001b[0msession\u001b[0m\u001b[1;33m,\u001b[0m \u001b[0mboard_names\u001b[0m\u001b[1;33m,\u001b[0m \u001b[0mexperiment\u001b[0m\u001b[1;33m)\u001b[0m\u001b[1;33m\u001b[0m\u001b[1;33m\u001b[0m\u001b[0m\n\u001b[0m",
      "\u001b[1;31mNameError\u001b[0m: name 'board_names' is not defined"
     ]
    }
   ],
   "source": [
    "# Define some variables\n",
    "board_name = 'muse2'\n",
    "# board_name = 'cyton'\n",
    "experiment = 'visual_n170'\n",
    "session = 999\n",
    "subject = 999 # a 'very British number'\n",
    "record_duration=120\n",
    "\n",
    "# Initiate EEG device\n",
    "eeg_device = EEG(device=board_name)\n",
    "\n",
    "# Create output filename\n",
    "save_fn = generate_save_fn(board_name, experiment, subject, session_nb=1)\n",
    "\n",
    "# Run experiment\n",
    "n170.present(duration=record_duration, eeg=eeg_device, save_fn=save_fn)\n",
    "\n",
    "# Load recorded data\n",
    "raw = load_data(subject, session, board_names, experiment)"
   ]
  }
 ],
 "metadata": {
  "kernelspec": {
   "display_name": "eeg-notebooks",
   "language": "python",
   "name": "eeg-notebooks"
  },
  "language_info": {
   "codemirror_mode": {
    "name": "ipython",
    "version": 3
   },
   "file_extension": ".py",
   "mimetype": "text/x-python",
   "name": "python",
   "nbconvert_exporter": "python",
   "pygments_lexer": "ipython3",
   "version": "3.7.11"
  }
 },
 "nbformat": 4,
 "nbformat_minor": 5
}
